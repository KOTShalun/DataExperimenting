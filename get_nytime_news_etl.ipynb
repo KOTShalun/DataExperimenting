{
 "cells": [
  {
   "cell_type": "code",
   "execution_count": 2,
   "id": "initial_id",
   "metadata": {
    "collapsed": true,
    "ExecuteTime": {
     "end_time": "2023-11-17T21:02:04.833945500Z",
     "start_time": "2023-11-17T21:02:04.247541Z"
    }
   },
   "outputs": [],
   "source": [
    "import time\n",
    "import datetime\n",
    "import requests\n",
    "import json\n",
    "import pandas as pd\n",
    "\n",
    "from pandas import json_normalize\n",
    "from sqlalchemy import create_engine"
   ]
  },
  {
   "cell_type": "code",
   "execution_count": 3,
   "outputs": [],
   "source": [
    "API_KEY = '5a0xmKOGOTI1G248OJ9GOL3GD9ohbQ0W'"
   ],
   "metadata": {
    "collapsed": false,
    "ExecuteTime": {
     "end_time": "2023-11-17T21:02:04.849164200Z",
     "start_time": "2023-11-17T21:02:04.833945500Z"
    }
   },
   "id": "5d99d85400e74d7d"
  },
  {
   "cell_type": "code",
   "execution_count": 4,
   "outputs": [],
   "source": [
    "def get_uri(query: str, pages_num: str, date: str, api_key: str) -> str:\n",
    "    uri = f'https://api.nytimes.com/svc/search/v2/articlesearch.json?q={query}'\n",
    "    uri = uri + f'&page={pages_num}&begin_date={date}&end_date={date}'\n",
    "    uri = uri + f'&api-key={api_key}'\n",
    "    return uri"
   ],
   "metadata": {
    "collapsed": false,
    "ExecuteTime": {
     "end_time": "2023-11-17T21:02:04.876240400Z",
     "start_time": "2023-11-17T21:02:04.850164200Z"
    }
   },
   "id": "c3a9aa46f6518787"
  },
  {
   "cell_type": "code",
   "execution_count": 5,
   "outputs": [],
   "source": [
    "df = pd.DataFrame()\n",
    "current_date = datetime.datetime.now() - datetime.timedelta(days=3)\n",
    "page_num = 1"
   ],
   "metadata": {
    "collapsed": false,
    "ExecuteTime": {
     "end_time": "2023-11-17T21:02:04.885242100Z",
     "start_time": "2023-11-17T21:02:04.868243600Z"
    }
   },
   "id": "212030c59db06364"
  },
  {
   "cell_type": "code",
   "execution_count": 6,
   "outputs": [],
   "source": [
    "while True:\n",
    "    URI = get_uri(query='election', pages_num=str(page_num), date=current_date.strftime('%Y%m%d'), api_key=API_KEY)\n",
    "    response = requests.get(URI)\n",
    "    data = response.json()\n",
    "\n",
    "    # print(f'GET page {page_num}: ')\n",
    "    # print(data)\n",
    "\n",
    "    try:\n",
    "        df_request = json_normalize(data['response'], record_path=['docs'])\n",
    "        if df_request.empty:\n",
    "            break\n",
    "    except:\n",
    "        break\n",
    "\n",
    "    df = pd.concat([df_request, df])\n",
    "    time.sleep(20)\n",
    "    page_num += 1"
   ],
   "metadata": {
    "collapsed": false,
    "ExecuteTime": {
     "end_time": "2023-11-17T21:02:27.777153400Z",
     "start_time": "2023-11-17T21:02:04.883241100Z"
    }
   },
   "id": "884ee0f843cae6fc"
  },
  {
   "cell_type": "code",
   "execution_count": 7,
   "outputs": [
    {
     "name": "stdout",
     "output_type": "stream",
     "text": [
      "                                            headline  \\\n",
      "0  Transcript: Ezra Klein Interviews Michael Podh...   \n",
      "1  House Ethics Panel Will Not Push to Expel Geor...   \n",
      "2                                 Wednesday Briefing   \n",
      "3  Top German Journalist Received €600,000 From P...   \n",
      "4  U.K. Can’t Deport Asylum Seekers to Rwanda, Su...   \n",
      "5        U.S. Presses China to Stop Flow of Fentanyl   \n",
      "6  Biden-Xi Talks Lead to Little but a Promise to...   \n",
      "7                              The Cost of Streaming   \n",
      "8  Why a Boston Tea Party Patriot Is Being Honore...   \n",
      "9   The Supreme Court’s New Ethics Code: ‘Worthless’   \n",
      "\n",
      "                       date                                author  \\\n",
      "0  2023-11-15T05:32:49+0000                                  None   \n",
      "1  2023-11-15T19:48:04+0000  By Grace Ashford and Luke Broadwater   \n",
      "2  2023-11-15T04:24:01+0000                      By Natasha Frost   \n",
      "3  2023-11-15T20:29:59+0000                      By Graham Bowley   \n",
      "4  2023-11-15T05:01:20+0000                       By Megan Specia   \n",
      "5  2023-11-15T17:05:49+0000     By Ana Swanson and Keith Bradsher   \n",
      "6  2023-11-15T10:03:27+0000   By David E. Sanger and Katie Rogers   \n",
      "7  2023-11-15T11:38:01+0000                    By David Leonhardt   \n",
      "8  2023-11-15T10:03:01+0000                       By James Barron   \n",
      "9  2023-11-15T16:41:10+0000                                  None   \n",
      "\n",
      "                                                 url  \n",
      "0  https://www.nytimes.com/2023/11/15/podcasts/tr...  \n",
      "1  https://www.nytimes.com/2023/11/15/nyregion/sa...  \n",
      "2  https://www.nytimes.com/2023/11/14/briefing/ga...  \n",
      "3  https://www.nytimes.com/2023/11/15/world/europ...  \n",
      "4  https://www.nytimes.com/2023/11/15/world/europ...  \n",
      "5  https://www.nytimes.com/2023/11/15/business/ec...  \n",
      "6  https://www.nytimes.com/2023/11/15/us/politics...  \n",
      "7  https://www.nytimes.com/2023/11/15/briefing/st...  \n",
      "8  https://www.nytimes.com/2023/11/15/nyregion/ne...  \n",
      "9  https://www.nytimes.com/2023/11/15/opinion/let...  \n"
     ]
    }
   ],
   "source": [
    "# Finding duplicates. And delete them.\n",
    "if len(df['_id'].unique()) < len(df):\n",
    "    print('There are duplicates in the data')\n",
    "    df = df.drop_duplicates('_id', keep='first')\n",
    "\n",
    "# Finding and delete articles without titles.\n",
    "if df['headline.main'].isnull().any():\n",
    "    print('There are missing values in this dataset')\n",
    "    df = df[df['headline.main'].isnull() == False]\n",
    "\n",
    "# Filtered op-ed articles.\n",
    "df = df[df['type_of_material'] != 'op-ed']\n",
    "\n",
    "# Stay just four columns\n",
    "df = df[['headline.main', 'pub_date', 'byline.original', 'web_url']]\n",
    "\n",
    "# Rename columns\n",
    "df.columns = ['headline', 'date', 'author', 'url']\n",
    "\n",
    "print(df.head(12))"
   ],
   "metadata": {
    "collapsed": false,
    "ExecuteTime": {
     "end_time": "2023-11-17T21:02:27.833217500Z",
     "start_time": "2023-11-17T21:02:27.785153100Z"
    }
   },
   "id": "c2d29d7d17b0256f"
  }
 ],
 "metadata": {
  "kernelspec": {
   "display_name": "Python 3",
   "language": "python",
   "name": "python3"
  },
  "language_info": {
   "codemirror_mode": {
    "name": "ipython",
    "version": 2
   },
   "file_extension": ".py",
   "mimetype": "text/x-python",
   "name": "python",
   "nbconvert_exporter": "python",
   "pygments_lexer": "ipython2",
   "version": "2.7.6"
  }
 },
 "nbformat": 4,
 "nbformat_minor": 5
}
