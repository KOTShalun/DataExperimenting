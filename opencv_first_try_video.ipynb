{
 "cells": [
  {
   "cell_type": "code",
   "execution_count": 7,
   "id": "initial_id",
   "metadata": {
    "collapsed": true,
    "ExecuteTime": {
     "end_time": "2023-11-21T10:57:23.695394200Z",
     "start_time": "2023-11-21T10:56:28.842529200Z"
    }
   },
   "outputs": [
    {
     "ename": "AttributeError",
     "evalue": "'NoneType' object has no attribute 'shape'",
     "output_type": "error",
     "traceback": [
      "\u001B[1;31m---------------------------------------------------------------------------\u001B[0m",
      "\u001B[1;31mAttributeError\u001B[0m                            Traceback (most recent call last)",
      "Cell \u001B[1;32mIn[7], line 30\u001B[0m\n\u001B[0;32m     27\u001B[0m \u001B[38;5;28;01mwhile\u001B[39;00m \u001B[38;5;28;01mTrue\u001B[39;00m:\n\u001B[0;32m     28\u001B[0m     success, img \u001B[38;5;241m=\u001B[39m cap\u001B[38;5;241m.\u001B[39mread()\n\u001B[1;32m---> 30\u001B[0m     img \u001B[38;5;241m=\u001B[39m cv2\u001B[38;5;241m.\u001B[39mresize(img, (\u001B[43mimg\u001B[49m\u001B[38;5;241;43m.\u001B[39;49m\u001B[43mshape\u001B[49m[\u001B[38;5;241m1\u001B[39m] \u001B[38;5;241m/\u001B[39m\u001B[38;5;241m/\u001B[39m \u001B[38;5;241m4\u001B[39m, img\u001B[38;5;241m.\u001B[39mshape[\u001B[38;5;241m0\u001B[39m] \u001B[38;5;241m/\u001B[39m\u001B[38;5;241m/\u001B[39m \u001B[38;5;241m4\u001B[39m))\n\u001B[0;32m     31\u001B[0m     \u001B[38;5;66;03m#img = cv2.GaussianBlur(img, (9, 9), 0)  # Blurring \u001B[39;00m\n\u001B[0;32m     32\u001B[0m     img \u001B[38;5;241m=\u001B[39m cv2\u001B[38;5;241m.\u001B[39mcvtColor(img, cv2\u001B[38;5;241m.\u001B[39mCOLOR_BGR2GRAY)  \u001B[38;5;66;03m# To gray\u001B[39;00m\n",
      "\u001B[1;31mAttributeError\u001B[0m: 'NoneType' object has no attribute 'shape'"
     ]
    }
   ],
   "source": [
    "import cv2\n",
    "import numpy\n",
    "\n",
    "# Video read\n",
    "cap = cv2.VideoCapture('open cv videos/pexels_videos_2103099 (2160p).mp4')\n",
    "cap.set(3, 300)\n",
    "cap.set(4, 200)\n",
    "\n",
    "while True:\n",
    "    success, img = cap.read()\n",
    "\n",
    "    img = cv2.resize(img, (img.shape[1] // 4, img.shape[0] // 4))\n",
    "    #img = cv2.GaussianBlur(img, (9, 9), 0)  # Blurring \n",
    "    img = cv2.cvtColor(img, cv2.COLOR_BGR2GRAY)  # To gray\n",
    "\n",
    "    img = cv2.Canny(img, 90, 90)  # Objects line\n",
    "\n",
    "    # kernel = numpy.ones((5, 5), numpy.uint8)\n",
    "    # img = cv2.dilate(img, kernel, iterations=1)\n",
    "    # img = cv2.erode(img, kernel)\n",
    "\n",
    "    cv2.imshow('Video result', img)\n",
    "    if cv2.waitKey(1) & 0xFF == ord('q'):\n",
    "        break\n"
   ]
  }
 ],
 "metadata": {
  "kernelspec": {
   "display_name": "Python 3",
   "language": "python",
   "name": "python3"
  },
  "language_info": {
   "codemirror_mode": {
    "name": "ipython",
    "version": 2
   },
   "file_extension": ".py",
   "mimetype": "text/x-python",
   "name": "python",
   "nbconvert_exporter": "python",
   "pygments_lexer": "ipython2",
   "version": "2.7.6"
  }
 },
 "nbformat": 4,
 "nbformat_minor": 5
}
