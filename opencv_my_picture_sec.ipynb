{
 "cells": [
  {
   "cell_type": "code",
   "execution_count": 41,
   "id": "initial_id",
   "metadata": {
    "collapsed": true,
    "ExecuteTime": {
     "end_time": "2023-11-21T10:48:45.034342100Z",
     "start_time": "2023-11-21T10:48:41.259747700Z"
    }
   },
   "outputs": [
    {
     "data": {
      "text/plain": "-1"
     },
     "execution_count": 41,
     "metadata": {},
     "output_type": "execute_result"
    }
   ],
   "source": [
    "import cv2\n",
    "import numpy as np\n",
    "\n",
    "color = 15, 100, 50\n",
    "photo = np.zeros((300, 300, 3), dtype='uint8')\n",
    "# photo[100:150, 100:150] = color # Picture cube\n",
    "\n",
    "cv2.rectangle(photo, (100, 100), (150, 150), color, thickness=2)\n",
    "cv2.line(photo, (100, photo.shape[0] // 2 + 10), (150, photo.shape[0] // 2 + 10), color, thickness=2)\n",
    "cv2.circle(photo, (photo.shape[1] // 2 - 25, photo.shape[0] // 2 - 25), 25, color, thickness=2)\n",
    "cv2.putText(photo, 'This our text', (100, 175), cv2.FONT_HERSHEY_TRIPLEX, 0.5, color, thickness=1)\n",
    "\n",
    "cv2.imshow('Photo', photo)\n",
    "cv2.waitKey(0)"
   ]
  },
  {
   "cell_type": "code",
   "execution_count": 15,
   "outputs": [],
   "source": [],
   "metadata": {
    "collapsed": false,
    "ExecuteTime": {
     "end_time": "2023-11-21T10:35:09.621255100Z",
     "start_time": "2023-11-21T10:35:09.598260600Z"
    }
   },
   "id": "23949431f69c1a0a"
  }
 ],
 "metadata": {
  "kernelspec": {
   "display_name": "Python 3",
   "language": "python",
   "name": "python3"
  },
  "language_info": {
   "codemirror_mode": {
    "name": "ipython",
    "version": 2
   },
   "file_extension": ".py",
   "mimetype": "text/x-python",
   "name": "python",
   "nbconvert_exporter": "python",
   "pygments_lexer": "ipython2",
   "version": "2.7.6"
  }
 },
 "nbformat": 4,
 "nbformat_minor": 5
}
