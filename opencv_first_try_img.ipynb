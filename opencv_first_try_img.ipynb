{
 "cells": [
  {
   "cell_type": "code",
   "execution_count": 2,
   "id": "initial_id",
   "metadata": {
    "collapsed": true,
    "ExecuteTime": {
     "end_time": "2023-11-21T13:45:02.929679400Z",
     "start_time": "2023-11-21T13:45:02.471340800Z"
    }
   },
   "outputs": [
    {
     "ename": "error",
     "evalue": "OpenCV(4.8.1) D:\\a\\opencv-python\\opencv-python\\opencv\\modules\\imgproc\\src\\color.cpp:182: error: (-215:Assertion failed) !_src.empty() in function 'cv::cvtColor'\n",
     "output_type": "error",
     "traceback": [
      "\u001B[1;31m---------------------------------------------------------------------------\u001B[0m",
      "\u001B[1;31merror\u001B[0m                                     Traceback (most recent call last)",
      "Cell \u001B[1;32mIn[2], line 9\u001B[0m\n\u001B[0;32m      5\u001B[0m img \u001B[38;5;241m=\u001B[39m cv2\u001B[38;5;241m.\u001B[39mimread(\u001B[38;5;124m'\u001B[39m\u001B[38;5;124mopen cv images/people_one.jpghttps://allrmtstorageaccount.blob.core.windows.net/media-maximus/images/photo-reports/c44b40fa-0717-47e1-8042-670314e67771/59573322-3e67-473e-ac19-b2fa11e792cb.webp\u001B[39m\u001B[38;5;124m'\u001B[39m)\n\u001B[0;32m      7\u001B[0m \u001B[38;5;66;03m# img = cv2.GaussianBlur(img, (9, 9), 0)  # Blurring \u001B[39;00m\n\u001B[1;32m----> 9\u001B[0m img \u001B[38;5;241m=\u001B[39m \u001B[43mcv2\u001B[49m\u001B[38;5;241;43m.\u001B[39;49m\u001B[43mcvtColor\u001B[49m\u001B[43m(\u001B[49m\u001B[43mimg\u001B[49m\u001B[43m,\u001B[49m\u001B[43m \u001B[49m\u001B[43mcv2\u001B[49m\u001B[38;5;241;43m.\u001B[39;49m\u001B[43mCOLOR_BGR2GRAY\u001B[49m\u001B[43m)\u001B[49m  \u001B[38;5;66;03m# To gray\u001B[39;00m\n\u001B[0;32m     11\u001B[0m img \u001B[38;5;241m=\u001B[39m cv2\u001B[38;5;241m.\u001B[39mCanny(img, \u001B[38;5;241m200\u001B[39m, \u001B[38;5;241m200\u001B[39m)  \u001B[38;5;66;03m# Обводка - с указанной точностью.\u001B[39;00m\n\u001B[0;32m     13\u001B[0m kernel \u001B[38;5;241m=\u001B[39m numpy\u001B[38;5;241m.\u001B[39mones((\u001B[38;5;241m5\u001B[39m, \u001B[38;5;241m5\u001B[39m), numpy\u001B[38;5;241m.\u001B[39muint8) \n",
      "\u001B[1;31merror\u001B[0m: OpenCV(4.8.1) D:\\a\\opencv-python\\opencv-python\\opencv\\modules\\imgproc\\src\\color.cpp:182: error: (-215:Assertion failed) !_src.empty() in function 'cv::cvtColor'\n"
     ]
    }
   ],
   "source": [
    "import cv2\n",
    "import numpy\n",
    "\n",
    "#Images read\n",
    "img = cv2.imread('open cv images/people_one.jpghttps://allrmtstorageaccount.blob.core.windows.net/media-maximus/images/photo-reports/c44b40fa-0717-47e1-8042-670314e67771/59573322-3e67-473e-ac19-b2fa11e792cb.webp')\n",
    "\n",
    "img = cv2.GaussianBlur(img, (9, 9), 0)  # Blurring \n",
    "\n",
    "img = cv2.cvtColor(img, cv2.COLOR_BGR2GRAY)  # To gray\n",
    "\n",
    "img = cv2.Canny(img, 200, 200)  # Обводка - с указанной точностью.\n",
    "\n",
    "kernel = numpy.ones((5, 5), numpy.uint8) \n",
    "img = cv2.dilate(img, kernel, iterations=1)\n",
    "img = cv2.erode(img, kernel)\n",
    "\n",
    "# Show image\n",
    "cv2.imshow('Lets test image cv', img)\n",
    "print(img.shape)\n",
    "cv2.waitKey(0)\n",
    "\n"
   ]
  }
 ],
 "metadata": {
  "kernelspec": {
   "display_name": "Python 3",
   "language": "python",
   "name": "python3"
  },
  "language_info": {
   "codemirror_mode": {
    "name": "ipython",
    "version": 2
   },
   "file_extension": ".py",
   "mimetype": "text/x-python",
   "name": "python",
   "nbconvert_exporter": "python",
   "pygments_lexer": "ipython2",
   "version": "2.7.6"
  }
 },
 "nbformat": 4,
 "nbformat_minor": 5
}
